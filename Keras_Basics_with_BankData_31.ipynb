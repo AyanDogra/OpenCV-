{
 "cells": [
  {
   "cell_type": "code",
   "execution_count": 1,
   "metadata": {},
   "outputs": [],
   "source": [
    "import numpy as np\n",
    "from numpy import genfromtxt"
   ]
  },
  {
   "cell_type": "code",
   "execution_count": 2,
   "metadata": {},
   "outputs": [],
   "source": [
    "data = genfromtxt('DATA/bank_note_data.txt', delimiter=',')"
   ]
  },
  {
   "cell_type": "code",
   "execution_count": 3,
   "metadata": {},
   "outputs": [
    {
     "data": {
      "text/plain": [
       "array([[  3.6216 ,   8.6661 ,  -2.8073 ,  -0.44699,   0.     ],\n",
       "       [  4.5459 ,   8.1674 ,  -2.4586 ,  -1.4621 ,   0.     ],\n",
       "       [  3.866  ,  -2.6383 ,   1.9242 ,   0.10645,   0.     ],\n",
       "       ...,\n",
       "       [ -3.7503 , -13.4586 ,  17.5932 ,  -2.7771 ,   1.     ],\n",
       "       [ -3.5637 ,  -8.3827 ,  12.393  ,  -1.2823 ,   1.     ],\n",
       "       [ -2.5419 ,  -0.65804,   2.6842 ,   1.1952 ,   1.     ]])"
      ]
     },
     "execution_count": 3,
     "metadata": {},
     "output_type": "execute_result"
    }
   ],
   "source": [
    "data"
   ]
  },
  {
   "cell_type": "code",
   "execution_count": 4,
   "metadata": {},
   "outputs": [],
   "source": [
    "labels=data[:,4]"
   ]
  },
  {
   "cell_type": "code",
   "execution_count": 5,
   "metadata": {},
   "outputs": [
    {
     "data": {
      "text/plain": [
       "array([0., 0., 0., ..., 1., 1., 1.])"
      ]
     },
     "execution_count": 5,
     "metadata": {},
     "output_type": "execute_result"
    }
   ],
   "source": [
    "labels"
   ]
  },
  {
   "cell_type": "code",
   "execution_count": 6,
   "metadata": {},
   "outputs": [],
   "source": [
    "features=data[:,0:4]"
   ]
  },
  {
   "cell_type": "code",
   "execution_count": 7,
   "metadata": {},
   "outputs": [
    {
     "data": {
      "text/plain": [
       "array([[  3.6216 ,   8.6661 ,  -2.8073 ,  -0.44699],\n",
       "       [  4.5459 ,   8.1674 ,  -2.4586 ,  -1.4621 ],\n",
       "       [  3.866  ,  -2.6383 ,   1.9242 ,   0.10645],\n",
       "       ...,\n",
       "       [ -3.7503 , -13.4586 ,  17.5932 ,  -2.7771 ],\n",
       "       [ -3.5637 ,  -8.3827 ,  12.393  ,  -1.2823 ],\n",
       "       [ -2.5419 ,  -0.65804,   2.6842 ,   1.1952 ]])"
      ]
     },
     "execution_count": 7,
     "metadata": {},
     "output_type": "execute_result"
    }
   ],
   "source": [
    "features"
   ]
  },
  {
   "cell_type": "code",
   "execution_count": 8,
   "metadata": {},
   "outputs": [],
   "source": [
    "X=features\n",
    "y=labels"
   ]
  },
  {
   "cell_type": "code",
   "execution_count": 9,
   "metadata": {},
   "outputs": [
    {
     "data": {
      "text/plain": [
       "array([[  3.6216 ,   8.6661 ,  -2.8073 ,  -0.44699],\n",
       "       [  4.5459 ,   8.1674 ,  -2.4586 ,  -1.4621 ],\n",
       "       [  3.866  ,  -2.6383 ,   1.9242 ,   0.10645],\n",
       "       ...,\n",
       "       [ -3.7503 , -13.4586 ,  17.5932 ,  -2.7771 ],\n",
       "       [ -3.5637 ,  -8.3827 ,  12.393  ,  -1.2823 ],\n",
       "       [ -2.5419 ,  -0.65804,   2.6842 ,   1.1952 ]])"
      ]
     },
     "execution_count": 9,
     "metadata": {},
     "output_type": "execute_result"
    }
   ],
   "source": [
    "X"
   ]
  },
  {
   "cell_type": "code",
   "execution_count": 10,
   "metadata": {},
   "outputs": [
    {
     "data": {
      "text/plain": [
       "array([0., 0., 0., ..., 1., 1., 1.])"
      ]
     },
     "execution_count": 10,
     "metadata": {},
     "output_type": "execute_result"
    }
   ],
   "source": [
    "y"
   ]
  },
  {
   "cell_type": "code",
   "execution_count": 13,
   "metadata": {},
   "outputs": [],
   "source": [
    "from sklearn.model_selection import train_test_split"
   ]
  },
  {
   "cell_type": "code",
   "execution_count": 14,
   "metadata": {},
   "outputs": [],
   "source": [
    "X_train, X_test, y_train, y_test = train_test_split(X, y, test_size=0.33, random_state=42)"
   ]
  },
  {
   "cell_type": "code",
   "execution_count": 15,
   "metadata": {},
   "outputs": [],
   "source": [
    "from sklearn.preprocessing import MinMaxScaler"
   ]
  },
  {
   "cell_type": "code",
   "execution_count": 16,
   "metadata": {},
   "outputs": [],
   "source": [
    "scaler=MinMaxScaler()"
   ]
  },
  {
   "cell_type": "code",
   "execution_count": 17,
   "metadata": {},
   "outputs": [],
   "source": [
    "X_train=scaler.fit_transform(X_train)"
   ]
  },
  {
   "cell_type": "code",
   "execution_count": 18,
   "metadata": {},
   "outputs": [],
   "source": [
    "X_test=scaler.transform(X_test)"
   ]
  },
  {
   "cell_type": "code",
   "execution_count": 19,
   "metadata": {},
   "outputs": [],
   "source": [
    "from keras.layers import Dense\n",
    "from keras.models import Sequential"
   ]
  },
  {
   "cell_type": "code",
   "execution_count": 21,
   "metadata": {},
   "outputs": [],
   "source": [
    "model=Sequential()\n",
    "\n",
    "model.add(Dense(4,input_dim=4,activation='relu'))\n",
    "\n",
    "model.add(Dense(8,activation='relu'))\n",
    "\n",
    "model.add(Dense(1,activation='sigmoid'))\n",
    "\n",
    "model.compile(loss='binary_crossentropy',optimizer='adam',metrics=['accuracy'])"
   ]
  },
  {
   "cell_type": "code",
   "execution_count": 22,
   "metadata": {},
   "outputs": [
    {
     "name": "stdout",
     "output_type": "stream",
     "text": [
      "WARNING:tensorflow:From /opt/anaconda3/lib/python3.7/site-packages/tensorflow/python/ops/math_ops.py:3066: to_int32 (from tensorflow.python.ops.math_ops) is deprecated and will be removed in a future version.\n",
      "Instructions for updating:\n",
      "Use tf.cast instead.\n",
      "Epoch 1/50\n",
      "919/919 [==============================] - 0s 341us/step - loss: 0.7227 - accuracy: 0.3471\n",
      "Epoch 2/50\n",
      "919/919 [==============================] - 0s 54us/step - loss: 0.6989 - accuracy: 0.4842\n",
      "Epoch 3/50\n",
      "919/919 [==============================] - 0s 55us/step - loss: 0.6913 - accuracy: 0.5495\n",
      "Epoch 4/50\n",
      "919/919 [==============================] - 0s 53us/step - loss: 0.6875 - accuracy: 0.5495\n",
      "Epoch 5/50\n",
      "919/919 [==============================] - 0s 55us/step - loss: 0.6844 - accuracy: 0.5495\n",
      "Epoch 6/50\n",
      "919/919 [==============================] - 0s 56us/step - loss: 0.6813 - accuracy: 0.5495\n",
      "Epoch 7/50\n",
      "919/919 [==============================] - 0s 53us/step - loss: 0.6778 - accuracy: 0.5495\n",
      "Epoch 8/50\n",
      "919/919 [==============================] - 0s 54us/step - loss: 0.6734 - accuracy: 0.5495\n",
      "Epoch 9/50\n",
      "919/919 [==============================] - 0s 53us/step - loss: 0.6665 - accuracy: 0.5495\n",
      "Epoch 10/50\n",
      "919/919 [==============================] - 0s 52us/step - loss: 0.6572 - accuracy: 0.5495\n",
      "Epoch 11/50\n",
      "919/919 [==============================] - 0s 52us/step - loss: 0.6494 - accuracy: 0.5658\n",
      "Epoch 12/50\n",
      "919/919 [==============================] - 0s 52us/step - loss: 0.6415 - accuracy: 0.5789\n",
      "Epoch 13/50\n",
      "919/919 [==============================] - 0s 49us/step - loss: 0.6333 - accuracy: 0.5832\n",
      "Epoch 14/50\n",
      "919/919 [==============================] - 0s 54us/step - loss: 0.6244 - accuracy: 0.5985\n",
      "Epoch 15/50\n",
      "919/919 [==============================] - 0s 52us/step - loss: 0.6144 - accuracy: 0.6213\n",
      "Epoch 16/50\n",
      "919/919 [==============================] - 0s 55us/step - loss: 0.6042 - accuracy: 0.6409\n",
      "Epoch 17/50\n",
      "919/919 [==============================] - 0s 53us/step - loss: 0.5940 - accuracy: 0.6627\n",
      "Epoch 18/50\n",
      "919/919 [==============================] - 0s 53us/step - loss: 0.5837 - accuracy: 0.6812\n",
      "Epoch 19/50\n",
      "919/919 [==============================] - 0s 55us/step - loss: 0.5735 - accuracy: 0.7171\n",
      "Epoch 20/50\n",
      "919/919 [==============================] - 0s 77us/step - loss: 0.5626 - accuracy: 0.7258\n",
      "Epoch 21/50\n",
      "919/919 [==============================] - 0s 71us/step - loss: 0.5527 - accuracy: 0.7345\n",
      "Epoch 22/50\n",
      "919/919 [==============================] - 0s 73us/step - loss: 0.5419 - accuracy: 0.7639\n",
      "Epoch 23/50\n",
      "919/919 [==============================] - 0s 71us/step - loss: 0.5314 - accuracy: 0.7758\n",
      "Epoch 24/50\n",
      "919/919 [==============================] - ETA: 0s - loss: 0.5218 - accuracy: 0.77 - 0s 71us/step - loss: 0.5215 - accuracy: 0.7780\n",
      "Epoch 25/50\n",
      "919/919 [==============================] - 0s 71us/step - loss: 0.5118 - accuracy: 0.7976\n",
      "Epoch 26/50\n",
      "919/919 [==============================] - 0s 54us/step - loss: 0.5022 - accuracy: 0.8150\n",
      "Epoch 27/50\n",
      "919/919 [==============================] - 0s 54us/step - loss: 0.4922 - accuracy: 0.8074\n",
      "Epoch 28/50\n",
      "919/919 [==============================] - 0s 56us/step - loss: 0.4826 - accuracy: 0.8248\n",
      "Epoch 29/50\n",
      "919/919 [==============================] - 0s 57us/step - loss: 0.4736 - accuracy: 0.8335\n",
      "Epoch 30/50\n",
      "919/919 [==============================] - 0s 60us/step - loss: 0.4642 - accuracy: 0.8346\n",
      "Epoch 31/50\n",
      "919/919 [==============================] - 0s 80us/step - loss: 0.4556 - accuracy: 0.8466\n",
      "Epoch 32/50\n",
      "919/919 [==============================] - 0s 86us/step - loss: 0.4458 - accuracy: 0.8477\n",
      "Epoch 33/50\n",
      "919/919 [==============================] - 0s 90us/step - loss: 0.4370 - accuracy: 0.8564\n",
      "Epoch 34/50\n",
      "919/919 [==============================] - 0s 83us/step - loss: 0.4280 - accuracy: 0.8585\n",
      "Epoch 35/50\n",
      "919/919 [==============================] - 0s 83us/step - loss: 0.4188 - accuracy: 0.8596\n",
      "Epoch 36/50\n",
      "919/919 [==============================] - 0s 94us/step - loss: 0.4098 - accuracy: 0.8781\n",
      "Epoch 37/50\n",
      "919/919 [==============================] - 0s 85us/step - loss: 0.4007 - accuracy: 0.8792\n",
      "Epoch 38/50\n",
      "919/919 [==============================] - 0s 73us/step - loss: 0.3921 - accuracy: 0.8792\n",
      "Epoch 39/50\n",
      "919/919 [==============================] - 0s 73us/step - loss: 0.3835 - accuracy: 0.8890\n",
      "Epoch 40/50\n",
      "919/919 [==============================] - 0s 69us/step - loss: 0.3750 - accuracy: 0.8955\n",
      "Epoch 41/50\n",
      "919/919 [==============================] - 0s 66us/step - loss: 0.3661 - accuracy: 0.9032\n",
      "Epoch 42/50\n",
      "919/919 [==============================] - 0s 66us/step - loss: 0.3580 - accuracy: 0.9119\n",
      "Epoch 43/50\n",
      "919/919 [==============================] - 0s 73us/step - loss: 0.3499 - accuracy: 0.9119\n",
      "Epoch 44/50\n",
      "919/919 [==============================] - 0s 69us/step - loss: 0.3421 - accuracy: 0.9195\n",
      "Epoch 45/50\n",
      "919/919 [==============================] - 0s 76us/step - loss: 0.3344 - accuracy: 0.9217\n",
      "Epoch 46/50\n",
      "919/919 [==============================] - 0s 66us/step - loss: 0.3271 - accuracy: 0.9304\n",
      "Epoch 47/50\n",
      "919/919 [==============================] - 0s 64us/step - loss: 0.3194 - accuracy: 0.9347\n",
      "Epoch 48/50\n",
      "919/919 [==============================] - 0s 56us/step - loss: 0.3122 - accuracy: 0.9336\n",
      "Epoch 49/50\n",
      "919/919 [==============================] - 0s 55us/step - loss: 0.3056 - accuracy: 0.9434\n",
      "Epoch 50/50\n",
      "919/919 [==============================] - 0s 57us/step - loss: 0.2996 - accuracy: 0.9434\n"
     ]
    },
    {
     "data": {
      "text/plain": [
       "<keras.callbacks.callbacks.History at 0x1a388eaf50>"
      ]
     },
     "execution_count": 22,
     "metadata": {},
     "output_type": "execute_result"
    }
   ],
   "source": [
    "model.fit(X_train,y_train,epochs=50,verbose=1)"
   ]
  },
  {
   "cell_type": "code",
   "execution_count": 23,
   "metadata": {},
   "outputs": [],
   "source": [
    "predictions=model.predict_classes(X_test)"
   ]
  },
  {
   "cell_type": "code",
   "execution_count": 24,
   "metadata": {},
   "outputs": [],
   "source": [
    "from sklearn.metrics import confusion_matrix,classification_report"
   ]
  },
  {
   "cell_type": "code",
   "execution_count": 25,
   "metadata": {},
   "outputs": [
    {
     "name": "stdout",
     "output_type": "stream",
     "text": [
      "[[255   2]\n",
      " [ 28 168]]\n",
      "              precision    recall  f1-score   support\n",
      "\n",
      "         0.0       0.90      0.99      0.94       257\n",
      "         1.0       0.99      0.86      0.92       196\n",
      "\n",
      "    accuracy                           0.93       453\n",
      "   macro avg       0.94      0.92      0.93       453\n",
      "weighted avg       0.94      0.93      0.93       453\n",
      "\n"
     ]
    }
   ],
   "source": [
    "print(confusion_matrix(y_test,predictions))\n",
    "print(classification_report(y_test,predictions))"
   ]
  },
  {
   "cell_type": "code",
   "execution_count": 26,
   "metadata": {},
   "outputs": [],
   "source": [
    "model.save('myfirstmodel.h5')"
   ]
  },
  {
   "cell_type": "code",
   "execution_count": null,
   "metadata": {},
   "outputs": [],
   "source": []
  }
 ],
 "metadata": {
  "kernelspec": {
   "display_name": "Python 3",
   "language": "python",
   "name": "python3"
  },
  "language_info": {
   "codemirror_mode": {
    "name": "ipython",
    "version": 3
   },
   "file_extension": ".py",
   "mimetype": "text/x-python",
   "name": "python",
   "nbconvert_exporter": "python",
   "pygments_lexer": "ipython3",
   "version": "3.7.4"
  }
 },
 "nbformat": 4,
 "nbformat_minor": 4
}
